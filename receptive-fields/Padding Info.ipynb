{
 "cells": [
  {
   "cell_type": "markdown",
   "id": "9c2c188f",
   "metadata": {},
   "source": [
    "### <span style=\"color:#3bbfa0; font-size:2em;\">*If You're Always Using the 'Same' Padding, You're Probably Doing It Wrong*</span><br><span style=\"color:lightgray; font-size:2em;\">*What is Padding Really and How to Select it*</span>\n",
    "<br>\n",
    "<img src=\"./asset/img/padding.gif\" width=\"800\">"
   ]
  },
  {
   "cell_type": "code",
   "execution_count": 9,
   "id": "8cd5b030",
   "metadata": {},
   "outputs": [
    {
     "data": {
      "text/plain": [
       "tensor([[[[-0.7949,  1.0612, -0.7323, -0.2455, -0.1001],\n",
       "          [-2.7019,  0.3012,  0.0639, -1.2704, -0.3334],\n",
       "          [ 0.2886, -0.3720, -0.1025,  0.5043, -0.7222],\n",
       "          [-0.5054,  0.8228, -1.0236, -1.2244, -1.9280],\n",
       "          [ 0.3289, -0.3378,  0.7619,  0.6806, -0.5579]]]])"
      ]
     },
     "execution_count": 9,
     "metadata": {},
     "output_type": "execute_result"
    }
   ],
   "source": [
    "import torch\n",
    "import torch.nn as nn\n",
    "\n",
    "# Initialize a random tensor\n",
    "x = torch.randn(1, 1, 5, 5)\n",
    "x"
   ]
  },
  {
   "cell_type": "code",
   "execution_count": 10,
   "id": "de81a80b",
   "metadata": {},
   "outputs": [
    {
     "name": "stdout",
     "output_type": "stream",
     "text": [
      "torch.Size([1, 1, 5, 5])\n"
     ]
    },
    {
     "data": {
      "text/plain": [
       "tensor([[[[-0.5859, -0.0851, -1.1073, -0.2818, -0.4121],\n",
       "          [-1.4088,  1.0385, -0.3710, -0.8102,  0.0723],\n",
       "          [-0.4765, -0.7008, -0.1255, -1.0180, -1.0310],\n",
       "          [-0.2687,  0.2851, -0.7900, -0.0779, -0.4261],\n",
       "          [-0.4424, -0.0440,  0.2546, -0.0673, -0.9075]]]],\n",
       "       grad_fn=<ConvolutionBackward0>)"
      ]
     },
     "execution_count": 10,
     "metadata": {},
     "output_type": "execute_result"
    }
   ],
   "source": [
    "# Convolutional layer with padding\n",
    "conv = nn.Conv2d(in_channels=1, out_channels=1, kernel_size=3, padding=1)\n",
    "out = conv(x)\n",
    "print(out.shape)  # Prints: torch.Size([1, 1, 5, 5])\n",
    "out"
   ]
  },
  {
   "cell_type": "markdown",
   "id": "8f14ee62",
   "metadata": {},
   "source": [
    "### <span style=\"color:#3bbfa0; font-size:1.2em;\">*1. Constant Padding:*</span>"
   ]
  },
  {
   "cell_type": "code",
   "execution_count": 11,
   "id": "c88a6d0a",
   "metadata": {},
   "outputs": [
    {
     "name": "stdout",
     "output_type": "stream",
     "text": [
      "torch.Size([1, 1, 7, 7])\n"
     ]
    },
    {
     "data": {
      "text/plain": [
       "tensor([[[[ 7.7000e+01,  7.7000e+01,  7.7000e+01,  7.7000e+01,  7.7000e+01,\n",
       "            7.7000e+01,  7.7000e+01],\n",
       "          [ 7.7000e+01, -7.9491e-01,  1.0612e+00, -7.3232e-01, -2.4549e-01,\n",
       "           -1.0012e-01,  7.7000e+01],\n",
       "          [ 7.7000e+01, -2.7019e+00,  3.0118e-01,  6.3919e-02, -1.2704e+00,\n",
       "           -3.3337e-01,  7.7000e+01],\n",
       "          [ 7.7000e+01,  2.8865e-01, -3.7205e-01, -1.0249e-01,  5.0432e-01,\n",
       "           -7.2220e-01,  7.7000e+01],\n",
       "          [ 7.7000e+01, -5.0544e-01,  8.2278e-01, -1.0236e+00, -1.2244e+00,\n",
       "           -1.9280e+00,  7.7000e+01],\n",
       "          [ 7.7000e+01,  3.2894e-01, -3.3782e-01,  7.6193e-01,  6.8059e-01,\n",
       "           -5.5793e-01,  7.7000e+01],\n",
       "          [ 7.7000e+01,  7.7000e+01,  7.7000e+01,  7.7000e+01,  7.7000e+01,\n",
       "            7.7000e+01,  7.7000e+01]]]])"
      ]
     },
     "execution_count": 11,
     "metadata": {},
     "output_type": "execute_result"
    }
   ],
   "source": [
    "# Constant padding\n",
    "constant_pad = nn.ConstantPad2d(padding=1, value=77)\n",
    "out = constant_pad(x)\n",
    "print(out.shape)  # Prints: torch.Size([1, 1, 7, 7])\n",
    "out"
   ]
  },
  {
   "cell_type": "markdown",
   "id": "edae023c",
   "metadata": {},
   "source": [
    "### <span style=\"color:#3bbfa0; font-size:1.2em;\">*2. Reflection Padding:*</span>\n",
    "\n",
    "```For example, let's say we have a simple one-dimensional tensor [1, 2, 3] and we want to \n",
    "apply reflection padding of size 2. The reflected tensor would look like this: [3, 2, 1, 2, 3, 2, 1].```"
   ]
  },
  {
   "cell_type": "code",
   "execution_count": 12,
   "id": "099bea8c",
   "metadata": {},
   "outputs": [
    {
     "name": "stdout",
     "output_type": "stream",
     "text": [
      "torch.Size([1, 1, 7, 7])\n"
     ]
    },
    {
     "data": {
      "text/plain": [
       "tensor([[[[ 0.3012, -2.7019,  0.3012,  0.0639, -1.2704, -0.3334, -1.2704],\n",
       "          [ 1.0612, -0.7949,  1.0612, -0.7323, -0.2455, -0.1001, -0.2455],\n",
       "          [ 0.3012, -2.7019,  0.3012,  0.0639, -1.2704, -0.3334, -1.2704],\n",
       "          [-0.3720,  0.2886, -0.3720, -0.1025,  0.5043, -0.7222,  0.5043],\n",
       "          [ 0.8228, -0.5054,  0.8228, -1.0236, -1.2244, -1.9280, -1.2244],\n",
       "          [-0.3378,  0.3289, -0.3378,  0.7619,  0.6806, -0.5579,  0.6806],\n",
       "          [ 0.8228, -0.5054,  0.8228, -1.0236, -1.2244, -1.9280, -1.2244]]]])"
      ]
     },
     "execution_count": 12,
     "metadata": {},
     "output_type": "execute_result"
    }
   ],
   "source": [
    "# Reflection padding\n",
    "reflection_pad = nn.ReflectionPad2d(padding=1)\n",
    "out = reflection_pad(x)\n",
    "print(out.shape)  # Prints: torch.Size([1, 1, 7, 7])\n",
    "out"
   ]
  },
  {
   "cell_type": "markdown",
   "id": "3b56b3f1",
   "metadata": {},
   "source": [
    "### <span style=\"color:#3bbfa0; font-size:1.2em;\">*3. Replication Padding:*</span>\n",
    "\n",
    "```For example, if we have a simple one-dimensional tensor [1, 2, 3] and we want to apply\n",
    "replication padding of size 2, the padded tensor would look like this: [1, 1, 1, 2, 3, 3, 3]. \n",
    "The values at the beginning and end of the tensor are \"replicated\" to create padding.```"
   ]
  },
  {
   "cell_type": "code",
   "execution_count": 14,
   "id": "ae512ce4",
   "metadata": {},
   "outputs": [
    {
     "name": "stdout",
     "output_type": "stream",
     "text": [
      "torch.Size([1, 1, 7, 7])\n"
     ]
    },
    {
     "data": {
      "text/plain": [
       "tensor([[[[-0.7949, -0.7949,  1.0612, -0.7323, -0.2455, -0.1001, -0.1001],\n",
       "          [-0.7949, -0.7949,  1.0612, -0.7323, -0.2455, -0.1001, -0.1001],\n",
       "          [-2.7019, -2.7019,  0.3012,  0.0639, -1.2704, -0.3334, -0.3334],\n",
       "          [ 0.2886,  0.2886, -0.3720, -0.1025,  0.5043, -0.7222, -0.7222],\n",
       "          [-0.5054, -0.5054,  0.8228, -1.0236, -1.2244, -1.9280, -1.9280],\n",
       "          [ 0.3289,  0.3289, -0.3378,  0.7619,  0.6806, -0.5579, -0.5579],\n",
       "          [ 0.3289,  0.3289, -0.3378,  0.7619,  0.6806, -0.5579, -0.5579]]]])"
      ]
     },
     "execution_count": 14,
     "metadata": {},
     "output_type": "execute_result"
    }
   ],
   "source": [
    "# Replication padding\n",
    "replication_pad = nn.ReplicationPad2d(padding=1)\n",
    "out = replication_pad(x)\n",
    "print(out.shape)  # Prints: torch.Size([1, 1, 7, 7])\n",
    "out"
   ]
  },
  {
   "cell_type": "code",
   "execution_count": null,
   "id": "e178a126",
   "metadata": {},
   "outputs": [],
   "source": []
  }
 ],
 "metadata": {
  "kernelspec": {
   "display_name": "Python 3 (ipykernel)",
   "language": "python",
   "name": "python3"
  },
  "language_info": {
   "codemirror_mode": {
    "name": "ipython",
    "version": 3
   },
   "file_extension": ".py",
   "mimetype": "text/x-python",
   "name": "python",
   "nbconvert_exporter": "python",
   "pygments_lexer": "ipython3",
   "version": "3.10.6"
  }
 },
 "nbformat": 4,
 "nbformat_minor": 5
}
